{
 "cells": [
  {
   "cell_type": "code",
   "execution_count": 1,
   "id": "1dcb62b2-73e8-4bcc-b2ef-27275e316bfd",
   "metadata": {},
   "outputs": [],
   "source": [
    "# quess1 Create a vehicle class with an init method having instance variables as name_of_vehicle, max_speed\n",
    "#and average_of_vehicle."
   ]
  },
  {
   "cell_type": "code",
   "execution_count": 3,
   "id": "91847eb4-6566-49e2-870c-52c28751c20b",
   "metadata": {},
   "outputs": [],
   "source": [
    "class vehicle:\n",
    "    def __init__(self,name_of_vehicle,max_speed,average_of_vehicle):\n",
    "        self.name_of_vehicle=name_of_vehicle\n",
    "        self.max_speed=max_speed\n",
    "        self.average_of_vehicle=average_of_vehicle"
   ]
  },
  {
   "cell_type": "code",
   "execution_count": 8,
   "id": "1af6ead7-f87f-4f8f-8f37-7cf70df15db8",
   "metadata": {},
   "outputs": [],
   "source": [
    "# ques 2 Create a child class car from the vehicle class created in Que 1, which will inherit the vehicle class.\n",
    "# Create a method named seating_capacity which takes capacity as an argument and returns the name of\n",
    "# the vehicle and its seating capacity.\n",
    "class car(vehicle):\n",
    "    def seating_capacity(self,capacity):\n",
    "        return self.name_of_vehicle,capacity"
   ]
  },
  {
   "cell_type": "code",
   "execution_count": 9,
   "id": "f8ccafe9-c56e-4ac5-9ca2-35fef5b14c7a",
   "metadata": {},
   "outputs": [
    {
     "data": {
      "text/plain": [
       "('innova', 5)"
      ]
     },
     "execution_count": 9,
     "metadata": {},
     "output_type": "execute_result"
    }
   ],
   "source": [
    "car1=car(\"innova\",80,10)\n",
    "car1.seating_capacity(5)"
   ]
  },
  {
   "cell_type": "code",
   "execution_count": 11,
   "id": "e4618355-d579-4da6-9b6c-f5e4ab4d142d",
   "metadata": {},
   "outputs": [],
   "source": [
    "# ques  3 What is multiple inheritance? Write a python code to demonstrate multiple inheritance.\n",
    "# multipple inheritance is where chils class has multiple parentr class\n",
    "class A:\n",
    "    def meth1():\n",
    "        return \"meth of class A\"\n",
    "class B:\n",
    "    def meth2():\n",
    "        return \"meth of class B\"\n",
    "class C(A,B):\n",
    "    pass"
   ]
  },
  {
   "cell_type": "code",
   "execution_count": 12,
   "id": "cd486de3-0a5e-485b-a122-42c817730c96",
   "metadata": {},
   "outputs": [],
   "source": [
    "OBJ=C"
   ]
  },
  {
   "cell_type": "code",
   "execution_count": 13,
   "id": "e1f6a9fe-439b-44d3-a5be-e4e17fbcafb7",
   "metadata": {},
   "outputs": [
    {
     "data": {
      "text/plain": [
       "'meth of class A'"
      ]
     },
     "execution_count": 13,
     "metadata": {},
     "output_type": "execute_result"
    }
   ],
   "source": [
    "OBJ.meth1()"
   ]
  },
  {
   "cell_type": "code",
   "execution_count": 14,
   "id": "b96ae97e-1fe7-4f10-b7ae-0fd070b80d56",
   "metadata": {},
   "outputs": [
    {
     "data": {
      "text/plain": [
       "'meth of class B'"
      ]
     },
     "execution_count": 14,
     "metadata": {},
     "output_type": "execute_result"
    }
   ],
   "source": [
    "OBJ.meth2()"
   ]
  },
  {
   "cell_type": "code",
   "execution_count": 5,
   "id": "a540bfa6-454d-4b9a-9ae0-e7d4cd7d1c4d",
   "metadata": {},
   "outputs": [],
   "source": [
    "# ques 4 What are getter and setter in python? Create a class and create a getter and a setter method in this\n",
    "#class.\n",
    "# We use getters & setters to add validation logic around getting and setting a value.\n",
    "\n",
    "class car():\n",
    "    def __init__(self,car_name,car_price):\n",
    "        self.__car_price=car_price\n",
    "        self.car_name=car_name\n",
    "    @property\n",
    "    def car_price_access(self):\n",
    "        return __car_price\n",
    "    \n",
    "    @car_price_access.setter\n",
    "    def set_car_price(self,price):\n",
    "        if(price>=0):\n",
    "            self.__car_price=price\n",
    "        else:\n",
    "            pass\n",
    "    @car_price_access.deleter \n",
    "    def delete_car_price(self):\n",
    "        del self.__car_price\n",
    "    \n",
    "\n",
    "    "
   ]
  },
  {
   "cell_type": "code",
   "execution_count": 6,
   "id": "5c0e0d45-7027-408b-9925-a7a1d1358278",
   "metadata": {},
   "outputs": [],
   "source": [
    "# qUES 5.What is method overriding in python? Write a python code to demonstrate method overriding."
   ]
  },
  {
   "cell_type": "code",
   "execution_count": null,
   "id": "c47d81c8-7fba-4480-998d-3e4388a0111a",
   "metadata": {},
   "outputs": [],
   "source": [
    "  class Employee:\n",
    "      def __init__(self, name, base_pay):\n",
    "          self.name = name\n",
    "          self.base_pay = base_pay\n",
    "\n",
    "      def get_pay(self):\n",
    "          return self.base_pay\n",
    "\n",
    "  class SalesEmployee(Employee):\n",
    "      def __init__(self, name, base_pay, sales_incentive):\n",
    "          self.name = name\n",
    "          self.base_pay = base_pay \n",
    "          self.sales_incentive = sales_incentive\n",
    "\n",
    "      def get_pay(self):\n",
    "          return self.base_pay + self.sales_incentive\n",
    "\n",
    "  emp = Employee('John', 5000)        \n",
    "  print(emp.get_pay())\n",
    "\n",
    "  sales_emp = SalesEmployee('Jane', 5000, 1500)\n",
    "  print(sales_emp.get_pay())"
   ]
  }
 ],
 "metadata": {
  "kernelspec": {
   "display_name": "Python 3 (ipykernel)",
   "language": "python",
   "name": "python3"
  },
  "language_info": {
   "codemirror_mode": {
    "name": "ipython",
    "version": 3
   },
   "file_extension": ".py",
   "mimetype": "text/x-python",
   "name": "python",
   "nbconvert_exporter": "python",
   "pygments_lexer": "ipython3",
   "version": "3.10.8"
  }
 },
 "nbformat": 4,
 "nbformat_minor": 5
}
