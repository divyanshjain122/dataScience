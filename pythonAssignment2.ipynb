{
 "cells": [
  {
   "cell_type": "code",
   "execution_count": 13,
   "id": "e5ed62b4-33ff-42a9-a5a5-5e67f5ba44d5",
   "metadata": {},
   "outputs": [],
   "source": [
    "#QUES 1\n",
    "l1=[(3,\"apple\"),(1,\"banana\"),(4,\"rice\"),(2,\"papaya\")]\n",
    "sortedl1=sorted(l1,key=lambda x:x[0])"
   ]
  },
  {
   "cell_type": "code",
   "execution_count": 14,
   "id": "6b6c400b-a7f9-4787-9e13-571d848061da",
   "metadata": {},
   "outputs": [
    {
     "data": {
      "text/plain": [
       "[(1, 'banana'), (2, 'papaya'), (3, 'apple'), (4, 'rice')]"
      ]
     },
     "execution_count": 14,
     "metadata": {},
     "output_type": "execute_result"
    }
   ],
   "source": [
    "sortedl1"
   ]
  },
  {
   "cell_type": "code",
   "execution_count": 15,
   "id": "80293ac8-5af3-4069-92d1-cf9b9b452625",
   "metadata": {},
   "outputs": [],
   "source": [
    "l2=[1,2,3,4,5,6,7,8,9,10]"
   ]
  },
  {
   "cell_type": "code",
   "execution_count": 20,
   "id": "f64b18a8-ff10-48d4-8bc4-55eff1ab6acd",
   "metadata": {},
   "outputs": [
    {
     "data": {
      "text/plain": [
       "[1, 4, 9, 16, 25, 36, 49, 64, 81, 100]"
      ]
     },
     "execution_count": 20,
     "metadata": {},
     "output_type": "execute_result"
    }
   ],
   "source": [
    "#QUES 2\n",
    "list(map(lambda x:x*x,l2))"
   ]
  },
  {
   "cell_type": "code",
   "execution_count": 24,
   "id": "4f841d70-548b-43e4-8649-d783e5c0d521",
   "metadata": {},
   "outputs": [
    {
     "data": {
      "text/plain": [
       "('1', '2', '3', '4', '5', '6', '7', '8', '9', '10')"
      ]
     },
     "execution_count": 24,
     "metadata": {},
     "output_type": "execute_result"
    }
   ],
   "source": [
    "# QUES 3\n",
    "tuple(map(lambda x:str(x),l2))\n"
   ]
  },
  {
   "cell_type": "code",
   "execution_count": 28,
   "id": "2e15eb5e-6206-46ca-aa44-386f0af5a5a8",
   "metadata": {},
   "outputs": [],
   "source": [
    "from functools import reduce\n"
   ]
  },
  {
   "cell_type": "code",
   "execution_count": 29,
   "id": "d3094fd5-fff8-4c4a-8ab3-512bc14b9ab9",
   "metadata": {},
   "outputs": [
    {
     "data": {
      "text/plain": [
       "3628800"
      ]
     },
     "execution_count": 29,
     "metadata": {},
     "output_type": "execute_result"
    }
   ],
   "source": [
    "reduce(lambda x,y:x*y,l2)"
   ]
  },
  {
   "cell_type": "code",
   "execution_count": 30,
   "id": "329d5049-2b21-4ce6-8dfc-c060f9d1796e",
   "metadata": {},
   "outputs": [
    {
     "data": {
      "text/plain": [
       "[6]"
      ]
     },
     "execution_count": 30,
     "metadata": {},
     "output_type": "execute_result"
    }
   ],
   "source": [
    "list(filter(lambda x: x%6==0,l2))"
   ]
  },
  {
   "cell_type": "code",
   "execution_count": 31,
   "id": "63c61519-002b-459c-88f0-b972b635fdbc",
   "metadata": {},
   "outputs": [],
   "source": [
    "#programme to find palidrome in the given list of strings using lambda\n",
    "# filter function"
   ]
  },
  {
   "cell_type": "code",
   "execution_count": 33,
   "id": "dacdc64d-6a4e-4e04-b97a-fb76dfa8b0cd",
   "metadata": {},
   "outputs": [
    {
     "data": {
      "text/plain": [
       "['php', 'aba', 'radar', 'level']"
      ]
     },
     "execution_count": 33,
     "metadata": {},
     "output_type": "execute_result"
    }
   ],
   "source": [
    "l3=['python','php','aba','radar','level']\n",
    "list(filter(lambda x:x==x[::-1],l3))"
   ]
  },
  {
   "cell_type": "code",
   "execution_count": null,
   "id": "d8fd8419-65c9-4fb1-95ed-aaaf31a4b3c4",
   "metadata": {},
   "outputs": [],
   "source": []
  }
 ],
 "metadata": {
  "kernelspec": {
   "display_name": "Python 3 (ipykernel)",
   "language": "python",
   "name": "python3"
  },
  "language_info": {
   "codemirror_mode": {
    "name": "ipython",
    "version": 3
   },
   "file_extension": ".py",
   "mimetype": "text/x-python",
   "name": "python",
   "nbconvert_exporter": "python",
   "pygments_lexer": "ipython3",
   "version": "3.10.8"
  }
 },
 "nbformat": 4,
 "nbformat_minor": 5
}
