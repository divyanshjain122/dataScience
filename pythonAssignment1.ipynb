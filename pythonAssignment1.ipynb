{
 "cells": [
  {
   "cell_type": "code",
   "execution_count": 4,
   "id": "0706a59f-dda5-42f1-b617-6f67e5f90c36",
   "metadata": {},
   "outputs": [],
   "source": [
    "# ques 1\n",
    "#def keyword is used to create a fution\n",
    "def listOdd1():\n",
    "    l1=[]\n",
    "    for i in range (1,25,2):\n",
    "        l1.append(i)\n",
    "    return l1"
   ]
  },
  {
   "cell_type": "code",
   "execution_count": 5,
   "id": "70102e85-f45f-4355-bb74-00b52ab5b23a",
   "metadata": {},
   "outputs": [
    {
     "data": {
      "text/plain": [
       "[1, 3, 5, 7, 9, 11, 13, 15, 17, 19, 21, 23]"
      ]
     },
     "execution_count": 5,
     "metadata": {},
     "output_type": "execute_result"
    }
   ],
   "source": [
    "listOdd1()"
   ]
  },
  {
   "cell_type": "code",
   "execution_count": 7,
   "id": "7e9ab860-d1f2-4b3c-bf60-31dd37a6087d",
   "metadata": {},
   "outputs": [],
   "source": [
    "#ques2\n",
    "# * args is used so that all the input that is given to the function parameter \n",
    "# is stored in the form of tuple\n",
    "# **kwargs is used so that all the pairs of inputs are saved as key value pair\n",
    "# in a dictionary\n",
    "def test1(* args):\n",
    "    return args\n",
    "def test2(** kwargs):\n",
    "    return kwargs\n"
   ]
  },
  {
   "cell_type": "code",
   "execution_count": 6,
   "id": "8fa0d975-d57c-4c0b-b453-91782a2d5b34",
   "metadata": {},
   "outputs": [
    {
     "data": {
      "text/plain": [
       "(1, 2, 3, 4, 5, 6)"
      ]
     },
     "execution_count": 6,
     "metadata": {},
     "output_type": "execute_result"
    }
   ],
   "source": [
    "test1(1,2,3,4,5,6)"
   ]
  },
  {
   "cell_type": "code",
   "execution_count": 10,
   "id": "1f05a139-f333-436e-86c9-e77f99bd5a9b",
   "metadata": {},
   "outputs": [
    {
     "data": {
      "text/plain": [
       "{'a': 'c', 'b': 'hello', 'c': 'earth'}"
      ]
     },
     "execution_count": 10,
     "metadata": {},
     "output_type": "execute_result"
    }
   ],
   "source": [
    "test2(a=\"c\",b=\"hello\",c=\"earth\")"
   ]
  },
  {
   "cell_type": "code",
   "execution_count": 1,
   "id": "d707c632-5fd3-4bf7-b47c-4e49e05c688f",
   "metadata": {},
   "outputs": [],
   "source": [
    "# ques  3\n",
    "# iterator is an object which helps us iteerate a datatype\n",
    "# iter( object to be interated) is used to innitialize an iterator object\n",
    "# next() is used to move the iternator to next spot"
   ]
  },
  {
   "cell_type": "code",
   "execution_count": 10,
   "id": "b4a6e9d5-61c0-47c5-9241-32be3088203b",
   "metadata": {},
   "outputs": [
    {
     "name": "stdout",
     "output_type": "stream",
     "text": [
      "2\n",
      "4\n",
      "6\n",
      "8\n",
      "10\n"
     ]
    }
   ],
   "source": [
    "l1=[2,4,6,8,10,12,14,16,18,20]\n",
    "i=iter(l1)\n",
    "for j in range( 0,5,1):\n",
    "    print(next(i))"
   ]
  },
  {
   "cell_type": "code",
   "execution_count": 20,
   "id": "3c95411c-26e2-46ce-8cb5-7fe0a66b3daf",
   "metadata": {},
   "outputs": [
    {
     "data": {
      "text/plain": [
       "generator"
      ]
     },
     "execution_count": 20,
     "metadata": {},
     "output_type": "execute_result"
    }
   ],
   "source": [
    "# ques 4 \n",
    "# genrator function in python which returns a sequence of iterator object\n",
    "# yeild keyword is used to create a genrator function which creates an iterator object\n",
    "def fib1(n):\n",
    "    '''this is genrator function to return an iternating set of fib values'''\n",
    "    a,b=0,1\n",
    "    for i in range (n):\n",
    "        yield (a)\n",
    "        a,b=b,a+b\n",
    "type(fib1(3))\n"
   ]
  },
  {
   "cell_type": "code",
   "execution_count": 24,
   "id": "942424c9-c4a7-49d1-8d16-93bc8fb3bc59",
   "metadata": {},
   "outputs": [
    {
     "name": "stdin",
     "output_type": "stream",
     "text": [
      "enter a no till which fib should be genrated 5\n"
     ]
    },
    {
     "name": "stdout",
     "output_type": "stream",
     "text": [
      "0\n",
      "1\n",
      "1\n",
      "2\n",
      "3\n"
     ]
    }
   ],
   "source": [
    "# we can use this genraor function to print n fib series\n",
    "n=int(input(\"enter a no till which fib should be genrated\"))\n",
    "for i in fib1(n):\n",
    "    print(i)"
   ]
  },
  {
   "cell_type": "code",
   "execution_count": 25,
   "id": "d6939b17-d54b-44ff-aac5-ce85de2b6fd3",
   "metadata": {},
   "outputs": [],
   "source": [
    "# methord 2\n",
    "def fib2():\n",
    "    a,b=0,1\n",
    "    while True:\n",
    "        yield a \n",
    "        a,b=b,a+b"
   ]
  },
  {
   "cell_type": "code",
   "execution_count": 26,
   "id": "f7dcfe70-1640-4d66-b24c-44c4d2f78328",
   "metadata": {},
   "outputs": [
    {
     "name": "stdin",
     "output_type": "stream",
     "text": [
      "enter a no till which fib should be genrated 5\n"
     ]
    },
    {
     "name": "stdout",
     "output_type": "stream",
     "text": [
      "0\n",
      "1\n",
      "1\n",
      "2\n",
      "3\n"
     ]
    }
   ],
   "source": [
    "n=int(input(\"enter a no till which fib should be genrated\"))\n",
    "fib=fib2()\n",
    "for i in range (n):\n",
    "    print(next(fib))"
   ]
  },
  {
   "cell_type": "code",
   "execution_count": 48,
   "id": "25fe83a0-a888-4b61-9ee2-cfc3ca8fb4ba",
   "metadata": {},
   "outputs": [],
   "source": [
    "def isPrime(n):\n",
    "    if(n<1):\n",
    "        return False\n",
    "    elif(n<3):\n",
    "        return True\n",
    "    else:\n",
    "        for i in range (2,n,1):\n",
    "           if (n%i==0):\n",
    "            return False\n",
    "        return True\n",
    "def prime1():\n",
    "    n=0\n",
    "    while True and n<1000:\n",
    "        n+=1\n",
    "        if(isPrime(n)):\n",
    "            yield n\n",
    "            \n",
    "            "
   ]
  },
  {
   "cell_type": "code",
   "execution_count": 49,
   "id": "88852bd3-10e7-430a-b32f-ab6a7d61fe03",
   "metadata": {},
   "outputs": [
    {
     "name": "stdout",
     "output_type": "stream",
     "text": [
      "1\n",
      "2\n",
      "3\n",
      "5\n",
      "7\n",
      "11\n",
      "13\n",
      "17\n",
      "19\n",
      "23\n",
      "29\n",
      "31\n",
      "37\n",
      "41\n",
      "43\n",
      "47\n",
      "53\n",
      "59\n",
      "61\n",
      "67\n"
     ]
    }
   ],
   "source": [
    "p=prime1()\n",
    "\n",
    "for i in range( 20):\n",
    "    print(next(p))"
   ]
  },
  {
   "cell_type": "code",
   "execution_count": 51,
   "id": "c1b3ab7e-7498-4c59-bcef-5eaeb8a7c26b",
   "metadata": {},
   "outputs": [
    {
     "name": "stdout",
     "output_type": "stream",
     "text": [
      "0\n",
      "1\n",
      "1\n",
      "2\n",
      "3\n",
      "5\n",
      "8\n",
      "13\n",
      "21\n",
      "34\n"
     ]
    }
   ],
   "source": [
    "# ques 6\n",
    "def fib3():\n",
    "    a,b=0,1\n",
    "    while True:\n",
    "        yield a\n",
    "        a,b=b,a+b\n",
    "fibs=fib3()\n",
    "for i in range(10):\n",
    "    print(next(fibs))"
   ]
  },
  {
   "cell_type": "code",
   "execution_count": 52,
   "id": "e3b3a8bd-49a7-419a-abac-4622a45f4429",
   "metadata": {},
   "outputs": [
    {
     "name": "stdin",
     "output_type": "stream",
     "text": [
      "enter string hello world\n"
     ]
    }
   ],
   "source": [
    "str2=input(\"enter string\")\n",
    "s=iter(str2)\n",
    "l=[]\n",
    "for i in s :\n",
    "    l.append(i)"
   ]
  },
  {
   "cell_type": "code",
   "execution_count": 53,
   "id": "2ad1de03-9909-44a3-b752-a7f26f740487",
   "metadata": {},
   "outputs": [
    {
     "data": {
      "text/plain": [
       "['h', 'e', 'l', 'l', 'o', ' ', 'w', 'o', 'r', 'l', 'd']"
      ]
     },
     "execution_count": 53,
     "metadata": {},
     "output_type": "execute_result"
    }
   ],
   "source": [
    "l\n"
   ]
  },
  {
   "cell_type": "code",
   "execution_count": 63,
   "id": "721bd27d-d0bd-4521-a07b-e105eb6bd5b0",
   "metadata": {},
   "outputs": [
    {
     "name": "stdin",
     "output_type": "stream",
     "text": [
      "entere string hheehh\n"
     ]
    },
    {
     "name": "stdout",
     "output_type": "stream",
     "text": [
      "it is palidrime\n"
     ]
    }
   ],
   "source": [
    "# ques 8\n",
    "def checkPalidrom(str):\n",
    "    '''check palidrom or not'''\n",
    "    length=len(str)\n",
    "    i=0\n",
    "    while i<length/2:\n",
    "        if(str[i]!=str[length-1-i]):\n",
    "            return False\n",
    "        i+=1\n",
    "        \n",
    "    return True\n",
    "str3=input(\"entere string\")\n",
    "if(checkPalidrom(str3)):\n",
    "    \n",
    "    print(\"it is palidrime\")\n",
    "else:\n",
    "    print(\"no t a palidrome\")\n",
    "        "
   ]
  },
  {
   "cell_type": "code",
   "execution_count": 64,
   "id": "ead5b49a-0491-4867-9f42-77aea760a2d6",
   "metadata": {},
   "outputs": [],
   "source": [
    "#ques 9\n",
    "list1=[]\n",
    "for i in range (100):\n",
    "    list1.append(i+1)\n"
   ]
  },
  {
   "cell_type": "code",
   "execution_count": 69,
   "id": "e3219723-2ef6-4e87-b78c-94ad067bdef2",
   "metadata": {},
   "outputs": [
    {
     "data": {
      "text/plain": [
       "[1,\n",
       " 3,\n",
       " 5,\n",
       " 7,\n",
       " 9,\n",
       " 11,\n",
       " 13,\n",
       " 15,\n",
       " 17,\n",
       " 19,\n",
       " 21,\n",
       " 23,\n",
       " 25,\n",
       " 27,\n",
       " 29,\n",
       " 31,\n",
       " 33,\n",
       " 35,\n",
       " 37,\n",
       " 39,\n",
       " 41,\n",
       " 43,\n",
       " 45,\n",
       " 47,\n",
       " 49,\n",
       " 51,\n",
       " 53,\n",
       " 55,\n",
       " 57,\n",
       " 59,\n",
       " 61,\n",
       " 63,\n",
       " 65,\n",
       " 67,\n",
       " 69,\n",
       " 71,\n",
       " 73,\n",
       " 75,\n",
       " 77,\n",
       " 79,\n",
       " 81,\n",
       " 83,\n",
       " 85,\n",
       " 87,\n",
       " 89,\n",
       " 91,\n",
       " 93,\n",
       " 95,\n",
       " 97,\n",
       " 99]"
      ]
     },
     "execution_count": 69,
     "metadata": {},
     "output_type": "execute_result"
    }
   ],
   "source": [
    "list(filter(lambda x :  x%2==1,list1 ))"
   ]
  },
  {
   "cell_type": "code",
   "execution_count": null,
   "id": "7be9980d-d480-44d5-97fc-bdc202d7b216",
   "metadata": {},
   "outputs": [],
   "source": []
  }
 ],
 "metadata": {
  "kernelspec": {
   "display_name": "Python 3 (ipykernel)",
   "language": "python",
   "name": "python3"
  },
  "language_info": {
   "codemirror_mode": {
    "name": "ipython",
    "version": 3
   },
   "file_extension": ".py",
   "mimetype": "text/x-python",
   "name": "python",
   "nbconvert_exporter": "python",
   "pygments_lexer": "ipython3",
   "version": "3.10.8"
  }
 },
 "nbformat": 4,
 "nbformat_minor": 5
}
