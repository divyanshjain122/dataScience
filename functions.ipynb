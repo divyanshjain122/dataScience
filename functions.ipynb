{
 "cells": [
  {
   "cell_type": "code",
   "execution_count": 1,
   "id": "8523df56-8eb0-4296-bf18-f610e1723036",
   "metadata": {},
   "outputs": [],
   "source": [
    "def function_name():\n",
    "    pass\n",
    "    #the code of the function"
   ]
  },
  {
   "cell_type": "code",
   "execution_count": 2,
   "id": "449882e5-680e-433b-9b1a-b30bf2074ca7",
   "metadata": {},
   "outputs": [],
   "source": [
    "def test1():\n",
    "    print(\"this is my first function\")\n",
    "    "
   ]
  },
  {
   "cell_type": "code",
   "execution_count": 3,
   "id": "c3a2bc2d-f2ac-4634-9bae-c2350b519173",
   "metadata": {},
   "outputs": [
    {
     "name": "stdout",
     "output_type": "stream",
     "text": [
      "this is my first function\n"
     ]
    }
   ],
   "source": [
    "test1()\n"
   ]
  },
  {
   "cell_type": "code",
   "execution_count": 4,
   "id": "ad68f033-2684-4d22-9db9-b903cc321134",
   "metadata": {},
   "outputs": [],
   "source": [
    "def test2():\n",
    "    return \"this is my first return \"\n"
   ]
  },
  {
   "cell_type": "code",
   "execution_count": 5,
   "id": "7deab6ed-3b9d-42dc-8963-6969df747352",
   "metadata": {},
   "outputs": [
    {
     "data": {
      "text/plain": [
       "'this is my first return apple '"
      ]
     },
     "execution_count": 5,
     "metadata": {},
     "output_type": "execute_result"
    }
   ],
   "source": [
    "test2()+ \"apple \"\n"
   ]
  },
  {
   "cell_type": "code",
   "execution_count": 6,
   "id": "b2feeee2-bf99-453b-b09e-7316fbf2b1cf",
   "metadata": {},
   "outputs": [],
   "source": [
    "def test3():\n",
    "    return \"sudh\",23,234.34,[1,2,3]\n"
   ]
  },
  {
   "cell_type": "code",
   "execution_count": 7,
   "id": "c7cc3f55-cfe0-4259-a49d-e07a8fc32d15",
   "metadata": {},
   "outputs": [
    {
     "data": {
      "text/plain": [
       "('sudh', 23, 234.34, [1, 2, 3])"
      ]
     },
     "execution_count": 7,
     "metadata": {},
     "output_type": "execute_result"
    }
   ],
   "source": [
    "test3()\n"
   ]
  },
  {
   "cell_type": "code",
   "execution_count": 8,
   "id": "c7842848-627c-4b4c-be11-32b251e1c56b",
   "metadata": {},
   "outputs": [],
   "source": [
    "#data was returned in a tupple\n"
   ]
  },
  {
   "cell_type": "code",
   "execution_count": 9,
   "id": "a96e19ff-c337-48a3-a8e3-fdc47326896f",
   "metadata": {},
   "outputs": [],
   "source": [
    "def test4(a,b,c):\n",
    "    d=a+b/c\n",
    "    return d\n"
   ]
  },
  {
   "cell_type": "code",
   "execution_count": 10,
   "id": "06003eb9-d628-405d-8298-c105f6907e4c",
   "metadata": {},
   "outputs": [
    {
     "data": {
      "text/plain": [
       "1.6666666666666665"
      ]
     },
     "execution_count": 10,
     "metadata": {},
     "output_type": "execute_result"
    }
   ],
   "source": [
    "test4(1,2,3)\n"
   ]
  },
  {
   "cell_type": "code",
   "execution_count": 11,
   "id": "a2072cea-9711-4a25-a94f-c7ba3c2aef5c",
   "metadata": {},
   "outputs": [],
   "source": [
    "l1=[1,2,3,4,\"suhd\",\"kumar\",[1,2,3,4]]"
   ]
  },
  {
   "cell_type": "code",
   "execution_count": 14,
   "id": "5f5bf9c0-98d0-4318-80b3-a70fc755a1fd",
   "metadata": {},
   "outputs": [],
   "source": [
    "#function to traverse througha list and return the int from it in a list\n",
    "l2=[]\n",
    "for i in l1:\n",
    "    if type(i)==int or type(i)==float:\n",
    "        l2.append(i)\n",
    "        "
   ]
  },
  {
   "cell_type": "code",
   "execution_count": 19,
   "id": "93c43c63-cec5-4068-8878-70af7c7effba",
   "metadata": {},
   "outputs": [],
   "source": [
    "def findNoInList(l1):\n",
    "    l2=[]\n",
    "    for i in l1:\n",
    "        if type(i)==int or type(i)==float:\n",
    "            l2.append(i)\n",
    "    return l2\n"
   ]
  },
  {
   "cell_type": "code",
   "execution_count": 20,
   "id": "b5256f77-4ff7-46f0-87f0-b8286d48afbe",
   "metadata": {},
   "outputs": [
    {
     "data": {
      "text/plain": [
       "[1, 2, 3, 4]"
      ]
     },
     "execution_count": 20,
     "metadata": {},
     "output_type": "execute_result"
    }
   ],
   "source": [
    "findNoInList(l1)\n"
   ]
  },
  {
   "cell_type": "code",
   "execution_count": 25,
   "id": "0c7af4c6-3fc6-430a-8439-45037e6d3955",
   "metadata": {},
   "outputs": [],
   "source": [
    "def findNoInList(l1):\n",
    "    \"\"\"this is my function to extract numeric data\"\"\"\n",
    "    l2=[]\n",
    "    for i in l1:\n",
    "        if type(i)==int or type(i)==float:\n",
    "            l2.append(i)\n",
    "        elif type(i)==list:\n",
    "            for j in i:\n",
    "                l2.append(j)\n",
    "    return l2\n"
   ]
  },
  {
   "cell_type": "code",
   "execution_count": 23,
   "id": "94bb3d0e-e7e1-4496-9556-c33370452904",
   "metadata": {},
   "outputs": [
    {
     "data": {
      "text/plain": [
       "[1, 2, 3, 4, 1, 2, 3, 4]"
      ]
     },
     "execution_count": 23,
     "metadata": {},
     "output_type": "execute_result"
    }
   ],
   "source": [
    "findNoInListList(l1)\n"
   ]
  },
  {
   "cell_type": "code",
   "execution_count": 24,
   "id": "6a8b5a56-7ec4-4954-956f-6a824f30aefd",
   "metadata": {},
   "outputs": [
    {
     "data": {
      "text/plain": [
       "[1, 2, 3, 4, 1, 2, 3, 4]"
      ]
     },
     "execution_count": 24,
     "metadata": {},
     "output_type": "execute_result"
    }
   ],
   "source": [
    "findNoInList()\n"
   ]
  },
  {
   "cell_type": "code",
   "execution_count": 26,
   "id": "65392455-e4bd-487e-9b59-00170bda2d00",
   "metadata": {},
   "outputs": [],
   "source": [
    "def test10(*args):\n",
    "    return args"
   ]
  },
  {
   "cell_type": "code",
   "execution_count": 28,
   "id": "3326579d-cafd-417b-b0f0-e4934a4aa72d",
   "metadata": {},
   "outputs": [
    {
     "data": {
      "text/plain": [
       "(1, 2, 3, 33, 4, 4)"
      ]
     },
     "execution_count": 28,
     "metadata": {},
     "output_type": "execute_result"
    }
   ],
   "source": [
    "test10(1,2,3,33,4,4)"
   ]
  },
  {
   "cell_type": "code",
   "execution_count": 30,
   "id": "7ab78b2d-9eae-4c39-bf2d-b112a1519203",
   "metadata": {},
   "outputs": [],
   "source": [
    "def test11(*args,a):\n",
    "    return args,a"
   ]
  },
  {
   "cell_type": "code",
   "execution_count": 33,
   "id": "a306812e-1ddb-4998-a809-f84d6aacb9f2",
   "metadata": {},
   "outputs": [
    {
     "data": {
      "text/plain": [
       "((1, 2, 3, 4), 5)"
      ]
     },
     "execution_count": 33,
     "metadata": {},
     "output_type": "execute_result"
    }
   ],
   "source": [
    "test11(1,2,3,4,a=5)"
   ]
  },
  {
   "cell_type": "code",
   "execution_count": 5,
   "id": "cb9983ca-4741-42a8-a564-cd4d04b2ddac",
   "metadata": {},
   "outputs": [],
   "source": [
    "def test12(**args):\n",
    "    return args"
   ]
  },
  {
   "cell_type": "code",
   "execution_count": 35,
   "id": "f564cfb3-4a48-41cb-94f7-7b42048c3f35",
   "metadata": {},
   "outputs": [
    {
     "data": {
      "text/plain": [
       "dict"
      ]
     },
     "execution_count": 35,
     "metadata": {},
     "output_type": "execute_result"
    }
   ],
   "source": [
    "type(test12())"
   ]
  },
  {
   "cell_type": "code",
   "execution_count": 9,
   "id": "df938faf-68c0-4926-9a56-473853811eb1",
   "metadata": {},
   "outputs": [
    {
     "ename": "TypeError",
     "evalue": "test12() takes 0 positional arguments but 1 was given",
     "output_type": "error",
     "traceback": [
      "\u001b[0;31m---------------------------------------------------------------------------\u001b[0m",
      "\u001b[0;31mTypeError\u001b[0m                                 Traceback (most recent call last)",
      "Cell \u001b[0;32mIn[9], line 1\u001b[0m\n\u001b[0;32m----> 1\u001b[0m \u001b[43mtest12\u001b[49m\u001b[43m(\u001b[49m\u001b[38;5;241;43m1\u001b[39;49m\u001b[43m)\u001b[49m\n",
      "\u001b[0;31mTypeError\u001b[0m: test12() takes 0 positional arguments but 1 was given"
     ]
    }
   ],
   "source": [
    "test12()"
   ]
  },
  {
   "cell_type": "code",
   "execution_count": 38,
   "id": "6a029b81-8f83-48f4-a400-6499041b2133",
   "metadata": {},
   "outputs": [],
   "source": [
    "def test_fib(n):\n",
    "    a,b=0,1\n",
    "    for i in range (n):\n",
    "        yield a\n",
    "        a,b=b,a+b"
   ]
  },
  {
   "cell_type": "code",
   "execution_count": 39,
   "id": "6c9967ec-adf1-446c-b635-8bd1e1ec4801",
   "metadata": {},
   "outputs": [
    {
     "data": {
      "text/plain": [
       "<generator object test_fib at 0x7ff12b74c740>"
      ]
     },
     "execution_count": 39,
     "metadata": {},
     "output_type": "execute_result"
    }
   ],
   "source": [
    "test_fib(10)\n"
   ]
  },
  {
   "cell_type": "code",
   "execution_count": 41,
   "id": "31351e2d-88f2-4f9b-a2de-eef9c822f537",
   "metadata": {},
   "outputs": [
    {
     "name": "stdout",
     "output_type": "stream",
     "text": [
      "0\n",
      "1\n",
      "1\n",
      "2\n",
      "3\n",
      "5\n",
      "8\n",
      "13\n",
      "21\n",
      "34\n"
     ]
    }
   ],
   "source": [
    "for i in test_fib(10):\n",
    "    print(i)"
   ]
  },
  {
   "cell_type": "code",
   "execution_count": 42,
   "id": "01600174-8d84-4ed0-95d3-cfda6ebe6ee6",
   "metadata": {},
   "outputs": [],
   "source": [
    "#this helps in programme feasibiloty for high value of n"
   ]
  },
  {
   "cell_type": "code",
   "execution_count": 47,
   "id": "e6980b14-578b-44f1-883c-396a798915d3",
   "metadata": {},
   "outputs": [],
   "source": [
    "def test_fib1():\n",
    "    a,b=0,1\n",
    "    while True:\n",
    "        yield a\n",
    "        a,b=b,a+b"
   ]
  },
  {
   "cell_type": "code",
   "execution_count": 55,
   "id": "68be877d-3615-4876-895a-d6bdcc6476b2",
   "metadata": {},
   "outputs": [
    {
     "name": "stdout",
     "output_type": "stream",
     "text": [
      "0\n",
      "1\n",
      "1\n",
      "2\n",
      "3\n",
      "5\n",
      "8\n",
      "13\n",
      "21\n",
      "34\n"
     ]
    }
   ],
   "source": [
    "fib=test_fib1()\n",
    "type(fib)##genrator\n",
    "for i in range(10):\n",
    "    print(next(fib))\n",
    "\n",
    "\n",
    "\n",
    "\n"
   ]
  },
  {
   "cell_type": "code",
   "execution_count": 56,
   "id": "869def99-5079-4fc0-a223-db38de254d90",
   "metadata": {},
   "outputs": [],
   "source": [
    "n=3\n",
    "p=2"
   ]
  },
  {
   "cell_type": "code",
   "execution_count": 57,
   "id": "9134406e-8841-400f-bad8-c7f90c588e06",
   "metadata": {},
   "outputs": [],
   "source": [
    "#n to power p "
   ]
  },
  {
   "cell_type": "code",
   "execution_count": 58,
   "id": "c4e0b2f2-128e-42d3-bb01-75ad658d8911",
   "metadata": {},
   "outputs": [],
   "source": [
    "def testnp(n,p):\n",
    "    return n**p"
   ]
  },
  {
   "cell_type": "code",
   "execution_count": 60,
   "id": "fc3f4d0d-7eb1-4756-8cc4-325a2d7f4555",
   "metadata": {},
   "outputs": [
    {
     "data": {
      "text/plain": [
       "8"
      ]
     },
     "execution_count": 60,
     "metadata": {},
     "output_type": "execute_result"
    }
   ],
   "source": [
    "testnp(2,3)"
   ]
  },
  {
   "cell_type": "code",
   "execution_count": null,
   "id": "c478960d-aa15-4002-b33b-e07414f559e3",
   "metadata": {},
   "outputs": [],
   "source": [
    "1+2"
   ]
  },
  {
   "cell_type": "code",
   "execution_count": 61,
   "id": "8671fa7d-ad8a-476f-bcc8-b4a519daf769",
   "metadata": {},
   "outputs": [],
   "source": [
    "a=lambda n,p:n**p"
   ]
  },
  {
   "cell_type": "code",
   "execution_count": 62,
   "id": "bad4a46f-0a5c-4f86-be65-3d3f455a914c",
   "metadata": {},
   "outputs": [
    {
     "data": {
      "text/plain": [
       "9"
      ]
     },
     "execution_count": 62,
     "metadata": {},
     "output_type": "execute_result"
    }
   ],
   "source": [
    "a(3,2)\n"
   ]
  },
  {
   "cell_type": "code",
   "execution_count": 63,
   "id": "f1c3a466-f6a7-4fb8-8c74-0ac411a2461e",
   "metadata": {},
   "outputs": [],
   "source": [
    "add=lambda x,y:x+y"
   ]
  },
  {
   "cell_type": "code",
   "execution_count": 64,
   "id": "061f0e64-24c4-4a8d-b848-4f6222d8764e",
   "metadata": {},
   "outputs": [
    {
     "data": {
      "text/plain": [
       "9"
      ]
     },
     "execution_count": 64,
     "metadata": {},
     "output_type": "execute_result"
    }
   ],
   "source": [
    "add(4,5)"
   ]
  },
  {
   "cell_type": "code",
   "execution_count": 70,
   "id": "c5ebd0d2-dec9-41a0-84c2-3dee62e18d3f",
   "metadata": {},
   "outputs": [],
   "source": [
    "finding_max=lambda x,y: x if x>y else y"
   ]
  },
  {
   "cell_type": "code",
   "execution_count": 71,
   "id": "6db2f727-40c2-4b56-bad1-ed09d1b6bdac",
   "metadata": {},
   "outputs": [
    {
     "data": {
      "text/plain": [
       "10"
      ]
     },
     "execution_count": 71,
     "metadata": {},
     "output_type": "execute_result"
    }
   ],
   "source": [
    "finding_max(2,10)"
   ]
  },
  {
   "cell_type": "code",
   "execution_count": 72,
   "id": "66972373-9cd3-44d7-87eb-6dddfd2ab1ca",
   "metadata": {},
   "outputs": [],
   "source": [
    "l4=[2,3,4,5,6]"
   ]
  },
  {
   "cell_type": "code",
   "execution_count": 75,
   "id": "1c3e50ed-12cc-4571-a5c6-f4a2707fd82c",
   "metadata": {},
   "outputs": [],
   "source": [
    "def squareElements(l):\n",
    "    l1=[]\n",
    "    for i in l:\n",
    "        l1.append(i**2)\n",
    "    return l1"
   ]
  },
  {
   "cell_type": "code",
   "execution_count": 76,
   "id": "5873a2cd-d21f-4ac0-9c93-020882fe9a42",
   "metadata": {},
   "outputs": [],
   "source": [
    "#map()\n",
    "##arguments are function and an iterable\n"
   ]
  },
  {
   "cell_type": "code",
   "execution_count": 79,
   "id": "4b5902dc-16e8-496c-a003-68a775559b54",
   "metadata": {},
   "outputs": [],
   "source": [
    "def sq(x):\n",
    "    return x**2"
   ]
  },
  {
   "cell_type": "code",
   "execution_count": 81,
   "id": "b6cf1e89-cc64-4df6-af85-01297a0e485f",
   "metadata": {},
   "outputs": [
    {
     "data": {
      "text/plain": [
       "[4, 9, 16, 25, 36]"
      ]
     },
     "execution_count": 81,
     "metadata": {},
     "output_type": "execute_result"
    }
   ],
   "source": [
    "list(map(sq,l4))"
   ]
  },
  {
   "cell_type": "code",
   "execution_count": 84,
   "id": "b86d4732-6db1-4a0b-a929-91ec8e8d5f81",
   "metadata": {},
   "outputs": [
    {
     "data": {
      "text/plain": [
       "[4, 9, 16, 25, 36]"
      ]
     },
     "execution_count": 84,
     "metadata": {},
     "output_type": "execute_result"
    }
   ],
   "source": [
    "list(map(lambda x: x**2,l4))"
   ]
  },
  {
   "cell_type": "code",
   "execution_count": 87,
   "id": "0859d493-428d-4b2e-acf4-5cef8572e2cb",
   "metadata": {},
   "outputs": [],
   "source": [
    "l5=[1,2,3,4,5]\n",
    "l6=[6,7,8,9,10]"
   ]
  },
  {
   "cell_type": "code",
   "execution_count": 88,
   "id": "f90c081f-1a0b-46c9-84c2-5714fbf8cb98",
   "metadata": {},
   "outputs": [],
   "source": [
    "# function for index wise addition"
   ]
  },
  {
   "cell_type": "code",
   "execution_count": 95,
   "id": "f70c9aea-920e-4cb5-9c48-04d3800e95dc",
   "metadata": {},
   "outputs": [
    {
     "data": {
      "text/plain": [
       "[7, 9, 11, 13, 15]"
      ]
     },
     "execution_count": 95,
     "metadata": {},
     "output_type": "execute_result"
    }
   ],
   "source": [
    "list ( map (lambda  x,y:x+y,l5,l6 ))"
   ]
  },
  {
   "cell_type": "code",
   "execution_count": 97,
   "id": "f59272f9-7bf5-407e-8cdc-745db177aa93",
   "metadata": {},
   "outputs": [],
   "source": [
    "def add(x,y):\n",
    "    return x+y"
   ]
  },
  {
   "cell_type": "code",
   "execution_count": 103,
   "id": "87db89c5-2556-4ee6-8ecc-1d9940ee972b",
   "metadata": {},
   "outputs": [
    {
     "data": {
      "text/plain": [
       "[7, 9, 11, 13, 15]"
      ]
     },
     "execution_count": 103,
     "metadata": {},
     "output_type": "execute_result"
    }
   ],
   "source": [
    "list (map(add,l5,l6))"
   ]
  },
  {
   "cell_type": "code",
   "execution_count": 104,
   "id": "43d51c1b-b95c-4bf9-a9b9-0aff17ede7a9",
   "metadata": {},
   "outputs": [
    {
     "data": {
      "text/plain": [
       "['H', 'E', 'L', 'L', 'O', 'W', 'O', 'R', 'L', 'D']"
      ]
     },
     "execution_count": 104,
     "metadata": {},
     "output_type": "execute_result"
    }
   ],
   "source": [
    "s=\"helloworld\"\n",
    "list(map(lambda s: s.upper(),s))"
   ]
  },
  {
   "cell_type": "code",
   "execution_count": 105,
   "id": "1c2aa12d-6ae5-4936-9774-ccb066be23f6",
   "metadata": {},
   "outputs": [],
   "source": [
    "##reduce"
   ]
  },
  {
   "cell_type": "code",
   "execution_count": 107,
   "id": "60ad1a4b-68b9-4ef8-937f-502af1d2bea7",
   "metadata": {},
   "outputs": [],
   "source": [
    "from functools import reduce"
   ]
  },
  {
   "cell_type": "code",
   "execution_count": 108,
   "id": "f81dd53a-3f2c-4510-88f5-12ea83fd6d7f",
   "metadata": {},
   "outputs": [],
   "source": [
    "lst=[1,2,3,4,5]"
   ]
  },
  {
   "cell_type": "code",
   "execution_count": 111,
   "id": "ba169282-5087-4bab-85ed-bc4c31bf37d1",
   "metadata": {},
   "outputs": [
    {
     "data": {
      "text/plain": [
       "15"
      ]
     },
     "execution_count": 111,
     "metadata": {},
     "output_type": "execute_result"
    }
   ],
   "source": [
    "reduce(lambda x,y:x+y,lst)"
   ]
  },
  {
   "cell_type": "code",
   "execution_count": 112,
   "id": "d230e1bf-fa6d-4775-a296-dc98554b93d6",
   "metadata": {},
   "outputs": [],
   "source": [
    "#can only take 2 parameters"
   ]
  },
  {
   "cell_type": "code",
   "execution_count": 113,
   "id": "b022f935-ab1c-42e6-8407-a78afef78f5c",
   "metadata": {},
   "outputs": [
    {
     "ename": "TypeError",
     "evalue": "reduce() of empty iterable with no initial value",
     "output_type": "error",
     "traceback": [
      "\u001b[0;31m---------------------------------------------------------------------------\u001b[0m",
      "\u001b[0;31mTypeError\u001b[0m                                 Traceback (most recent call last)",
      "Cell \u001b[0;32mIn[113], line 1\u001b[0m\n\u001b[0;32m----> 1\u001b[0m \u001b[43mreduce\u001b[49m\u001b[43m(\u001b[49m\u001b[38;5;28;43;01mlambda\u001b[39;49;00m\u001b[43m \u001b[49m\u001b[43mx\u001b[49m\u001b[43m,\u001b[49m\u001b[43my\u001b[49m\u001b[43m:\u001b[49m\u001b[43mx\u001b[49m\u001b[38;5;241;43m+\u001b[39;49m\u001b[43my\u001b[49m\u001b[43m,\u001b[49m\u001b[43m[\u001b[49m\u001b[43m]\u001b[49m\u001b[43m)\u001b[49m\n",
      "\u001b[0;31mTypeError\u001b[0m: reduce() of empty iterable with no initial value"
     ]
    }
   ],
   "source": [
    "reduce(lambda x,y:x+y,[])"
   ]
  },
  {
   "cell_type": "code",
   "execution_count": 114,
   "id": "acedf1b5-9908-4c51-aad1-ac7568e315f2",
   "metadata": {},
   "outputs": [
    {
     "data": {
      "text/plain": [
       "1"
      ]
     },
     "execution_count": 114,
     "metadata": {},
     "output_type": "execute_result"
    }
   ],
   "source": [
    "reduce(lambda x,y:x+y,[1])"
   ]
  },
  {
   "cell_type": "code",
   "execution_count": 115,
   "id": "a5782943-7b2b-413f-81fc-a55872c4bbd3",
   "metadata": {},
   "outputs": [
    {
     "data": {
      "text/plain": [
       "120"
      ]
     },
     "execution_count": 115,
     "metadata": {},
     "output_type": "execute_result"
    }
   ],
   "source": [
    "reduce(lambda x,y:x*y,lst)"
   ]
  },
  {
   "cell_type": "code",
   "execution_count": 116,
   "id": "cbb3a692-c57d-4f11-956d-6e8d3d96062f",
   "metadata": {},
   "outputs": [
    {
     "data": {
      "text/plain": [
       "5"
      ]
     },
     "execution_count": 116,
     "metadata": {},
     "output_type": "execute_result"
    }
   ],
   "source": [
    "reduce(lambda x,y:x if x>y else y,lst)"
   ]
  },
  {
   "cell_type": "code",
   "execution_count": 117,
   "id": "1ae7c15c-9e99-4c1f-9633-063e9d7d24f6",
   "metadata": {},
   "outputs": [],
   "source": [
    "#  filter takes 2 aeg one funtion 2nd iteration"
   ]
  },
  {
   "cell_type": "code",
   "execution_count": 118,
   "id": "0261d0c3-b910-4207-8d58-c64e8eb3f1f4",
   "metadata": {},
   "outputs": [
    {
     "data": {
      "text/plain": [
       "[2, 4]"
      ]
     },
     "execution_count": 118,
     "metadata": {},
     "output_type": "execute_result"
    }
   ],
   "source": [
    "list (  filter( lambda x: x%2==0,lst))"
   ]
  },
  {
   "cell_type": "code",
   "execution_count": 119,
   "id": "ab65ed07-c649-4d44-8c4c-d95f93536023",
   "metadata": {},
   "outputs": [
    {
     "data": {
      "text/plain": [
       "[1, 3, 5]"
      ]
     },
     "execution_count": 119,
     "metadata": {},
     "output_type": "execute_result"
    }
   ],
   "source": [
    "list(filter(lambda x: x%2!=0,lst))"
   ]
  },
  {
   "cell_type": "code",
   "execution_count": 120,
   "id": "e28b73e8-a0bd-4585-8c03-0614717eda22",
   "metadata": {},
   "outputs": [
    {
     "data": {
      "text/plain": [
       "[]"
      ]
     },
     "execution_count": 120,
     "metadata": {},
     "output_type": "execute_result"
    }
   ],
   "source": [
    "list (filter (lambda x : x<0,lst)) # returns all no which are negetiev"
   ]
  },
  {
   "cell_type": "code",
   "execution_count": 123,
   "id": "4eabdcc8-2093-401b-8e11-5c9ce80aaa13",
   "metadata": {},
   "outputs": [
    {
     "data": {
      "text/plain": [
       "['worlssn', 'fdsgsfg']"
      ]
     },
     "execution_count": 123,
     "metadata": {},
     "output_type": "execute_result"
    }
   ],
   "source": [
    "lst2 =[\"hello\",\"worlssn\",\"df\",\"fdsgsfg\"]\n",
    "list (filter(lambda str: len(str)>5,lst2))"
   ]
  },
  {
   "cell_type": "code",
   "execution_count": null,
   "id": "983e0a60-3c40-4e4b-93e3-bda84b6c3978",
   "metadata": {},
   "outputs": [],
   "source": []
  }
 ],
 "metadata": {
  "kernelspec": {
   "display_name": "Python 3 (ipykernel)",
   "language": "python",
   "name": "python3"
  },
  "language_info": {
   "codemirror_mode": {
    "name": "ipython",
    "version": 3
   },
   "file_extension": ".py",
   "mimetype": "text/x-python",
   "name": "python",
   "nbconvert_exporter": "python",
   "pygments_lexer": "ipython3",
   "version": "3.10.8"
  }
 },
 "nbformat": 4,
 "nbformat_minor": 5
}
